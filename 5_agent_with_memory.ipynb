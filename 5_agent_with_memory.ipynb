{
  "nbformat": 4,
  "nbformat_minor": 0,
  "metadata": {
    "colab": {
      "provenance": []
    },
    "kernelspec": {
      "name": "python3",
      "display_name": "Python 3"
    },
    "language_info": {
      "name": "python"
    }
  },
  "cells": [
    {
      "cell_type": "code",
      "execution_count": 1,
      "metadata": {
        "colab": {
          "base_uri": "https://localhost:8080/"
        },
        "id": "5WP5CrSIQIa3",
        "outputId": "6149da96-9534-497c-dbde-3c15495b6a07"
      },
      "outputs": [
        {
          "output_type": "stream",
          "name": "stdout",
          "text": [
            "\u001b[2K     \u001b[90m━━━━━━━━━━━━━━━━━━━━━━━━━━━━━━━━━━━━━━━━\u001b[0m \u001b[32m43.7/43.7 kB\u001b[0m \u001b[31m2.2 MB/s\u001b[0m eta \u001b[36m0:00:00\u001b[0m\n",
            "\u001b[2K   \u001b[90m━━━━━━━━━━━━━━━━━━━━━━━━━━━━━━━━━━━━━━━━\u001b[0m \u001b[32m70.4/70.4 kB\u001b[0m \u001b[31m3.0 MB/s\u001b[0m eta \u001b[36m0:00:00\u001b[0m\n",
            "\u001b[2K   \u001b[90m━━━━━━━━━━━━━━━━━━━━━━━━━━━━━━━━━━━━━━━━\u001b[0m \u001b[32m440.2/440.2 kB\u001b[0m \u001b[31m15.2 MB/s\u001b[0m eta \u001b[36m0:00:00\u001b[0m\n",
            "\u001b[2K   \u001b[90m━━━━━━━━━━━━━━━━━━━━━━━━━━━━━━━━━━━━━━━━\u001b[0m \u001b[32m143.7/143.7 kB\u001b[0m \u001b[31m10.3 MB/s\u001b[0m eta \u001b[36m0:00:00\u001b[0m\n",
            "\u001b[2K   \u001b[90m━━━━━━━━━━━━━━━━━━━━━━━━━━━━━━━━━━━━━━━━\u001b[0m \u001b[32m43.8/43.8 kB\u001b[0m \u001b[31m2.7 MB/s\u001b[0m eta \u001b[36m0:00:00\u001b[0m\n",
            "\u001b[2K   \u001b[90m━━━━━━━━━━━━━━━━━━━━━━━━━━━━━━━━━━━━━━━━\u001b[0m \u001b[32m50.1/50.1 kB\u001b[0m \u001b[31m1.8 MB/s\u001b[0m eta \u001b[36m0:00:00\u001b[0m\n",
            "\u001b[2K   \u001b[90m━━━━━━━━━━━━━━━━━━━━━━━━━━━━━━━━━━━━━━━━\u001b[0m \u001b[32m216.5/216.5 kB\u001b[0m \u001b[31m9.8 MB/s\u001b[0m eta \u001b[36m0:00:00\u001b[0m\n",
            "\u001b[?25h"
          ]
        }
      ],
      "source": [
        "!pip install --quiet -U langchain_openai langchain_core langgraph\n"
      ]
    },
    {
      "cell_type": "code",
      "source": [
        "import os, getpass\n",
        "def _set_env(var:str):\n",
        "  os.environ[var] = getpass.getpass(f\"{var}: \")\n",
        "\n",
        "_set_env('OPENAI_API_KEY')"
      ],
      "metadata": {
        "colab": {
          "base_uri": "https://localhost:8080/"
        },
        "id": "wRlylC0hQz7L",
        "outputId": "20efc79a-c8fc-444c-d09a-219049ca9b86"
      },
      "execution_count": 2,
      "outputs": [
        {
          "name": "stdout",
          "output_type": "stream",
          "text": [
            "OPENAI_API_KEY: ··········\n"
          ]
        }
      ]
    },
    {
      "cell_type": "code",
      "source": [
        "from langchain_openai import ChatOpenAI\n",
        "\n",
        "def multiply(a:int, b:int):\n",
        "  '''\n",
        "  Multiply two numbers\n",
        "  '''\n",
        "  return a*b\n",
        "\n",
        "\n",
        "def add(a:int, b:int):\n",
        "  '''\n",
        "  Add two numbers\n",
        "  '''\n",
        "  return a+b;\n",
        "\n",
        "def divide(a:int, b:int):\n",
        "  '''\n",
        "  Divide two numbers\n",
        "  '''\n",
        "  return a/b;\n",
        "\n",
        "\n",
        "tools = [multiply, add, divide]\n",
        "llm = ChatOpenAI(model_name='gpt-3.5-turbo')\n",
        "llm_with_tools = llm.bind_tools(tools=tools)"
      ],
      "metadata": {
        "id": "3RW_fdr3RSh0"
      },
      "execution_count": 3,
      "outputs": []
    },
    {
      "cell_type": "code",
      "source": [
        "from langgraph.graph import MessagesState\n",
        "from langchain_core.messages import AIMessage, HumanMessage, SystemMessage"
      ],
      "metadata": {
        "id": "UyFyNvr8SMf7"
      },
      "execution_count": 4,
      "outputs": []
    },
    {
      "cell_type": "code",
      "source": [
        "sys = SystemMessage(content=\"You are the helpfull asistance. play like a chill funny guy always filled with jokes.\")\n",
        "\n",
        "# node\n",
        "def asistance(state:MessagesState):\n",
        "  return {\"messages\":[llm_with_tools.invoke([sys]+state[\"messages\"])]}"
      ],
      "metadata": {
        "id": "9DuWpS5dSW_a"
      },
      "execution_count": 5,
      "outputs": []
    },
    {
      "cell_type": "code",
      "source": [
        "from langgraph.graph import START, StateGraph\n",
        "from langgraph.prebuilt import tools_condition, ToolNode\n",
        "from IPython.display import Image, display\n",
        "\n",
        "builder = StateGraph(MessagesState)\n",
        "\n",
        "builder.add_node(\"assistant\",asistance)\n",
        "builder.add_node(\"tools\",ToolNode(tools))\n",
        "\n",
        "builder.add_edge(START,\"assistant\")\n",
        "builder.add_conditional_edges(\"assistant\",tools_condition)\n",
        "builder.add_edge(\"tools\",\"assistant\")\n",
        "\n",
        "graph = builder.compile()\n",
        "\n",
        "display(Image(graph.get_graph(xray=True).draw_mermaid_png()))"
      ],
      "metadata": {
        "colab": {
          "base_uri": "https://localhost:8080/",
          "height": 266
        },
        "id": "nNmsTVRtTB1w",
        "outputId": "43c9dc81-72d9-4e99-ab50-b9a4652a7737"
      },
      "execution_count": 6,
      "outputs": [
        {
          "output_type": "display_data",
          "data": {
            "image/png": "[encoded data removed]",
            "text/plain": [
              "<IPython.core.display.Image object>"
            ]
          },
          "metadata": {}
        }
      ]
    },
    {
      "cell_type": "code",
      "source": [
        "\n",
        "messages = [HumanMessage(content=\"Hi, what is 4 + 5\")]\n",
        "messages = graph.invoke({\"messages\":messages})\n",
        "\n",
        "for m in messages[\"messages\"]:\n",
        "  print(m)"
      ],
      "metadata": {
        "colab": {
          "base_uri": "https://localhost:8080/"
        },
        "id": "1em_RgvzUSaP",
        "outputId": "57f7d6f1-a1f5-426f-ff19-f5d677d31ad8"
      },
      "execution_count": 7,
      "outputs": [
        {
          "output_type": "stream",
          "name": "stdout",
          "text": [
            "content='Hi, what is 4 + 5' additional_kwargs={} response_metadata={} id='ac99f264-9b20-4823-b2dc-042993096459'\n",
            "content='' additional_kwargs={'tool_calls': [{'id': 'call_hN9cwouO3jPWbj3Zah54M0TT', 'function': {'arguments': '{\"a\":4,\"b\":5}', 'name': 'add'}, 'type': 'function'}], 'refusal': None} response_metadata={'token_usage': {'completion_tokens': 17, 'prompt_tokens': 117, 'total_tokens': 134, 'completion_tokens_details': {'accepted_prediction_tokens': 0, 'audio_tokens': 0, 'reasoning_tokens': 0, 'rejected_prediction_tokens': 0}, 'prompt_tokens_details': {'audio_tokens': 0, 'cached_tokens': 0}}, 'model_name': 'gpt-3.5-turbo-0125', 'system_fingerprint': None, 'id': 'chatcmpl-BoX82KtKwtYGUeKLeFmkvNDYXT1t9', 'service_tier': 'default', 'finish_reason': 'tool_calls', 'logprobs': None} id='run--58420a77-f848-4bc1-b431-55a153de25f9-0' tool_calls=[{'name': 'add', 'args': {'a': 4, 'b': 5}, 'id': 'call_hN9cwouO3jPWbj3Zah54M0TT', 'type': 'tool_call'}] usage_metadata={'input_tokens': 117, 'output_tokens': 17, 'total_tokens': 134, 'input_token_details': {'audio': 0, 'cache_read': 0}, 'output_token_details': {'audio': 0, 'reasoning': 0}}\n",
            "content='9' name='add' id='cf2a4aa2-773d-4fb9-b631-3a129bb59e7e' tool_call_id='call_hN9cwouO3jPWbj3Zah54M0TT'\n",
            "content='4 + 5 equals 9, easy peasy lemon squeezy!' additional_kwargs={'refusal': None} response_metadata={'token_usage': {'completion_tokens': 17, 'prompt_tokens': 142, 'total_tokens': 159, 'completion_tokens_details': {'accepted_prediction_tokens': 0, 'audio_tokens': 0, 'reasoning_tokens': 0, 'rejected_prediction_tokens': 0}, 'prompt_tokens_details': {'audio_tokens': 0, 'cached_tokens': 0}}, 'model_name': 'gpt-3.5-turbo-0125', 'system_fingerprint': None, 'id': 'chatcmpl-BoX83x7FplKxS2RtuVInZVsOHwrC2', 'service_tier': 'default', 'finish_reason': 'stop', 'logprobs': None} id='run--7fcca753-2c62-4728-acb2-14c5a0e20e3b-0' usage_metadata={'input_tokens': 142, 'output_tokens': 17, 'total_tokens': 159, 'input_token_details': {'audio': 0, 'cache_read': 0}, 'output_token_details': {'audio': 0, 'reasoning': 0}}\n"
          ]
        }
      ]
    },
    {
      "cell_type": "code",
      "source": [],
      "metadata": {
        "id": "aU6mfGNQW8mL"
      },
      "execution_count": null,
      "outputs": []
    },
    {
      "cell_type": "markdown",
      "source": [
        "Adding memory"
      ],
      "metadata": {
        "id": "um8M1iIVi74S"
      }
    },
    {
      "cell_type": "code",
      "source": [
        "from langgraph.checkpoint.memory import MemorySaver\n",
        "memory = MemorySaver()\n",
        "graph = builder.compile(checkpointer=memory)"
      ],
      "metadata": {
        "id": "eHlO2rsei9pg"
      },
      "execution_count": 9,
      "outputs": []
    },
    {
      "cell_type": "code",
      "source": [
        "# specify the thread\n",
        "config = {\"configurable\":{\"thread_id\":1}}\n",
        "\n",
        "#input\n",
        "messages = [HumanMessage(content=\"Hi, what is 4 + 5\")]\n",
        "messages = graph.invoke({\"messages\":messages}, config)\n",
        "\n",
        "for m in messages[\"messages\"]:\n",
        "  print(m)"
      ],
      "metadata": {
        "colab": {
          "base_uri": "https://localhost:8080/"
        },
        "id": "IHkXN7zblsGr",
        "outputId": "85b9a066-ef43-4b1e-cf01-153b5f5182f6"
      },
      "execution_count": 11,
      "outputs": [
        {
          "output_type": "stream",
          "name": "stdout",
          "text": [
            "content='Hi, what is 4 + 5' additional_kwargs={} response_metadata={} id='9667a756-2286-429a-ac7d-f02858c23c4e'\n",
            "content='' additional_kwargs={'tool_calls': [{'id': 'call_XxGdWb7PJHaIGgv8DkM6YZng', 'function': {'arguments': '{\"a\":4,\"b\":5}', 'name': 'add'}, 'type': 'function'}], 'refusal': None} response_metadata={'token_usage': {'completion_tokens': 17, 'prompt_tokens': 117, 'total_tokens': 134, 'completion_tokens_details': {'accepted_prediction_tokens': 0, 'audio_tokens': 0, 'reasoning_tokens': 0, 'rejected_prediction_tokens': 0}, 'prompt_tokens_details': {'audio_tokens': 0, 'cached_tokens': 0}}, 'model_name': 'gpt-3.5-turbo-0125', 'system_fingerprint': None, 'id': 'chatcmpl-BoXCgfkA3kKy81SFkppvWUDytLAGE', 'service_tier': 'default', 'finish_reason': 'tool_calls', 'logprobs': None} id='run--11fad7a9-de8d-46c0-832a-a5985c2b4016-0' tool_calls=[{'name': 'add', 'args': {'a': 4, 'b': 5}, 'id': 'call_XxGdWb7PJHaIGgv8DkM6YZng', 'type': 'tool_call'}] usage_metadata={'input_tokens': 117, 'output_tokens': 17, 'total_tokens': 134, 'input_token_details': {'audio': 0, 'cache_read': 0}, 'output_token_details': {'audio': 0, 'reasoning': 0}}\n",
            "content='9' name='add' id='4a589aa0-98f8-4a64-9eea-63578a3fdf46' tool_call_id='call_XxGdWb7PJHaIGgv8DkM6YZng'\n",
            "content='The sum of 4 and 5 is 9!' additional_kwargs={'refusal': None} response_metadata={'token_usage': {'completion_tokens': 13, 'prompt_tokens': 142, 'total_tokens': 155, 'completion_tokens_details': {'accepted_prediction_tokens': 0, 'audio_tokens': 0, 'reasoning_tokens': 0, 'rejected_prediction_tokens': 0}, 'prompt_tokens_details': {'audio_tokens': 0, 'cached_tokens': 0}}, 'model_name': 'gpt-3.5-turbo-0125', 'system_fingerprint': None, 'id': 'chatcmpl-BoXCh5ZYOmmOuAwbMuIsPhVd3at7K', 'service_tier': 'default', 'finish_reason': 'stop', 'logprobs': None} id='run--df1c023d-2b77-4089-b30c-fc661cf8f3e0-0' usage_metadata={'input_tokens': 142, 'output_tokens': 13, 'total_tokens': 155, 'input_token_details': {'audio': 0, 'cache_read': 0}, 'output_token_details': {'audio': 0, 'reasoning': 0}}\n"
          ]
        }
      ]
    },
    {
      "cell_type": "code",
      "source": [
        "#input\n",
        "messages = [HumanMessage(content=\"multiply that by 2\")]\n",
        "messages = graph.invoke({\"messages\":messages}, config)\n",
        "\n",
        "for m in messages[\"messages\"]:\n",
        "  print(m)"
      ],
      "metadata": {
        "colab": {
          "base_uri": "https://localhost:8080/"
        },
        "id": "Xuns_hqNmFx2",
        "outputId": "66e1501f-c8c2-4157-8ffb-58b868ec5d79"
      },
      "execution_count": 12,
      "outputs": [
        {
          "output_type": "stream",
          "name": "stdout",
          "text": [
            "content='Hi, what is 4 + 5' additional_kwargs={} response_metadata={} id='9667a756-2286-429a-ac7d-f02858c23c4e'\n",
            "content='' additional_kwargs={'tool_calls': [{'id': 'call_XxGdWb7PJHaIGgv8DkM6YZng', 'function': {'arguments': '{\"a\":4,\"b\":5}', 'name': 'add'}, 'type': 'function'}], 'refusal': None} response_metadata={'token_usage': {'completion_tokens': 17, 'prompt_tokens': 117, 'total_tokens': 134, 'completion_tokens_details': {'accepted_prediction_tokens': 0, 'audio_tokens': 0, 'reasoning_tokens': 0, 'rejected_prediction_tokens': 0}, 'prompt_tokens_details': {'audio_tokens': 0, 'cached_tokens': 0}}, 'model_name': 'gpt-3.5-turbo-0125', 'system_fingerprint': None, 'id': 'chatcmpl-BoXCgfkA3kKy81SFkppvWUDytLAGE', 'service_tier': 'default', 'finish_reason': 'tool_calls', 'logprobs': None} id='run--11fad7a9-de8d-46c0-832a-a5985c2b4016-0' tool_calls=[{'name': 'add', 'args': {'a': 4, 'b': 5}, 'id': 'call_XxGdWb7PJHaIGgv8DkM6YZng', 'type': 'tool_call'}] usage_metadata={'input_tokens': 117, 'output_tokens': 17, 'total_tokens': 134, 'input_token_details': {'audio': 0, 'cache_read': 0}, 'output_token_details': {'audio': 0, 'reasoning': 0}}\n",
            "content='9' name='add' id='4a589aa0-98f8-4a64-9eea-63578a3fdf46' tool_call_id='call_XxGdWb7PJHaIGgv8DkM6YZng'\n",
            "content='The sum of 4 and 5 is 9!' additional_kwargs={'refusal': None} response_metadata={'token_usage': {'completion_tokens': 13, 'prompt_tokens': 142, 'total_tokens': 155, 'completion_tokens_details': {'accepted_prediction_tokens': 0, 'audio_tokens': 0, 'reasoning_tokens': 0, 'rejected_prediction_tokens': 0}, 'prompt_tokens_details': {'audio_tokens': 0, 'cached_tokens': 0}}, 'model_name': 'gpt-3.5-turbo-0125', 'system_fingerprint': None, 'id': 'chatcmpl-BoXCh5ZYOmmOuAwbMuIsPhVd3at7K', 'service_tier': 'default', 'finish_reason': 'stop', 'logprobs': None} id='run--df1c023d-2b77-4089-b30c-fc661cf8f3e0-0' usage_metadata={'input_tokens': 142, 'output_tokens': 13, 'total_tokens': 155, 'input_token_details': {'audio': 0, 'cache_read': 0}, 'output_token_details': {'audio': 0, 'reasoning': 0}}\n",
            "content='multiply that by 2' additional_kwargs={} response_metadata={} id='28d0d485-a041-4d6e-94fa-4bed2b93f176'\n",
            "content='' additional_kwargs={'tool_calls': [{'id': 'call_QpazM3lynQsIKiTRsXRtERpB', 'function': {'arguments': '{\"a\":9,\"b\":2}', 'name': 'multiply'}, 'type': 'function'}], 'refusal': None} response_metadata={'token_usage': {'completion_tokens': 17, 'prompt_tokens': 167, 'total_tokens': 184, 'completion_tokens_details': {'accepted_prediction_tokens': 0, 'audio_tokens': 0, 'reasoning_tokens': 0, 'rejected_prediction_tokens': 0}, 'prompt_tokens_details': {'audio_tokens': 0, 'cached_tokens': 0}}, 'model_name': 'gpt-3.5-turbo-0125', 'system_fingerprint': None, 'id': 'chatcmpl-BoXEG5hC6L38QPJe8DqZS0u6PoNxZ', 'service_tier': 'default', 'finish_reason': 'tool_calls', 'logprobs': None} id='run--d6fe31ea-a5b6-4a9b-945c-2f062bd0b800-0' tool_calls=[{'name': 'multiply', 'args': {'a': 9, 'b': 2}, 'id': 'call_QpazM3lynQsIKiTRsXRtERpB', 'type': 'tool_call'}] usage_metadata={'input_tokens': 167, 'output_tokens': 17, 'total_tokens': 184, 'input_token_details': {'audio': 0, 'cache_read': 0}, 'output_token_details': {'audio': 0, 'reasoning': 0}}\n",
            "content='18' name='multiply' id='d704f288-06e4-487b-9770-d93a3566b8cc' tool_call_id='call_QpazM3lynQsIKiTRsXRtERpB'\n",
            "content='When you multiply 9 by 2, you get 18!' additional_kwargs={'refusal': None} response_metadata={'token_usage': {'completion_tokens': 15, 'prompt_tokens': 192, 'total_tokens': 207, 'completion_tokens_details': {'accepted_prediction_tokens': 0, 'audio_tokens': 0, 'reasoning_tokens': 0, 'rejected_prediction_tokens': 0}, 'prompt_tokens_details': {'audio_tokens': 0, 'cached_tokens': 0}}, 'model_name': 'gpt-3.5-turbo-0125', 'system_fingerprint': None, 'id': 'chatcmpl-BoXEHCjJTBIVeQPphPKozjjBjWwVZ', 'service_tier': 'default', 'finish_reason': 'stop', 'logprobs': None} id='run--17111cca-a6b2-4252-9d01-1b38b9b41260-0' usage_metadata={'input_tokens': 192, 'output_tokens': 15, 'total_tokens': 207, 'input_token_details': {'audio': 0, 'cache_read': 0}, 'output_token_details': {'audio': 0, 'reasoning': 0}}\n"
          ]
        }
      ]
    },
    {
      "cell_type": "code",
      "source": [
        "# specify the thread\n",
        "config = {\"configurable\":{\"thread_id\":2}}\n",
        "#input\n",
        "messages = [HumanMessage(content=\"Hi, what is 3 + 3\")]\n",
        "messages = graph.invoke({\"messages\":messages}, config)\n",
        "\n",
        "for m in messages[\"messages\"]:\n",
        "  print(m)"
      ],
      "metadata": {
        "colab": {
          "base_uri": "https://localhost:8080/"
        },
        "id": "6ysglHQknHNR",
        "outputId": "f09ecb21-c70b-4726-9b61-0f39fb8b5fd3"
      },
      "execution_count": 13,
      "outputs": [
        {
          "output_type": "stream",
          "name": "stdout",
          "text": [
            "content='Hi, what is 3 + 3' additional_kwargs={} response_metadata={} id='1655cde0-3153-4674-a1fc-c8b4859490c9'\n",
            "content='' additional_kwargs={'tool_calls': [{'id': 'call_Fx50KLkgsg19JwstD2TLEiTG', 'function': {'arguments': '{\"a\":3,\"b\":3}', 'name': 'add'}, 'type': 'function'}], 'refusal': None} response_metadata={'token_usage': {'completion_tokens': 17, 'prompt_tokens': 117, 'total_tokens': 134, 'completion_tokens_details': {'accepted_prediction_tokens': 0, 'audio_tokens': 0, 'reasoning_tokens': 0, 'rejected_prediction_tokens': 0}, 'prompt_tokens_details': {'audio_tokens': 0, 'cached_tokens': 0}}, 'model_name': 'gpt-3.5-turbo-0125', 'system_fingerprint': None, 'id': 'chatcmpl-BoXF3kDMfP1TJSp7x3pdV2YYlFAwc', 'service_tier': 'default', 'finish_reason': 'tool_calls', 'logprobs': None} id='run--ca63200a-2e25-460d-8c72-6d5165ce4e4c-0' tool_calls=[{'name': 'add', 'args': {'a': 3, 'b': 3}, 'id': 'call_Fx50KLkgsg19JwstD2TLEiTG', 'type': 'tool_call'}] usage_metadata={'input_tokens': 117, 'output_tokens': 17, 'total_tokens': 134, 'input_token_details': {'audio': 0, 'cache_read': 0}, 'output_token_details': {'audio': 0, 'reasoning': 0}}\n",
            "content='6' name='add' id='5e77f33e-3071-411a-9204-1164dd8d68ca' tool_call_id='call_Fx50KLkgsg19JwstD2TLEiTG'\n",
            "content=\"The answer to 3 + 3 is 6! That's how we do math, easy peasy lemon squeezy!\" additional_kwargs={'refusal': None} response_metadata={'token_usage': {'completion_tokens': 28, 'prompt_tokens': 142, 'total_tokens': 170, 'completion_tokens_details': {'accepted_prediction_tokens': 0, 'audio_tokens': 0, 'reasoning_tokens': 0, 'rejected_prediction_tokens': 0}, 'prompt_tokens_details': {'audio_tokens': 0, 'cached_tokens': 0}}, 'model_name': 'gpt-3.5-turbo-0125', 'system_fingerprint': None, 'id': 'chatcmpl-BoXF5CIiPJpU1KGDUuvwU9aTInr6S', 'service_tier': 'default', 'finish_reason': 'stop', 'logprobs': None} id='run--17ea174b-1d35-46eb-a3f6-742affef1555-0' usage_metadata={'input_tokens': 142, 'output_tokens': 28, 'total_tokens': 170, 'input_token_details': {'audio': 0, 'cache_read': 0}, 'output_token_details': {'audio': 0, 'reasoning': 0}}\n"
          ]
        }
      ]
    },
    {
      "cell_type": "code",
      "source": [
        "messages = [HumanMessage(content=\"multiply that by 2\")]\n",
        "messages = graph.invoke({\"messages\":messages}, config)\n",
        "\n",
        "for m in messages[\"messages\"]:\n",
        "  print(m)"
      ],
      "metadata": {
        "colab": {
          "base_uri": "https://localhost:8080/"
        },
        "id": "nV24eP1-nTeC",
        "outputId": "089bcdeb-a8a4-4cf9-bbed-828093b38b91"
      },
      "execution_count": 14,
      "outputs": [
        {
          "output_type": "stream",
          "name": "stdout",
          "text": [
            "content='Hi, what is 3 + 3' additional_kwargs={} response_metadata={} id='1655cde0-3153-4674-a1fc-c8b4859490c9'\n",
            "content='' additional_kwargs={'tool_calls': [{'id': 'call_Fx50KLkgsg19JwstD2TLEiTG', 'function': {'arguments': '{\"a\":3,\"b\":3}', 'name': 'add'}, 'type': 'function'}], 'refusal': None} response_metadata={'token_usage': {'completion_tokens': 17, 'prompt_tokens': 117, 'total_tokens': 134, 'completion_tokens_details': {'accepted_prediction_tokens': 0, 'audio_tokens': 0, 'reasoning_tokens': 0, 'rejected_prediction_tokens': 0}, 'prompt_tokens_details': {'audio_tokens': 0, 'cached_tokens': 0}}, 'model_name': 'gpt-3.5-turbo-0125', 'system_fingerprint': None, 'id': 'chatcmpl-BoXF3kDMfP1TJSp7x3pdV2YYlFAwc', 'service_tier': 'default', 'finish_reason': 'tool_calls', 'logprobs': None} id='run--ca63200a-2e25-460d-8c72-6d5165ce4e4c-0' tool_calls=[{'name': 'add', 'args': {'a': 3, 'b': 3}, 'id': 'call_Fx50KLkgsg19JwstD2TLEiTG', 'type': 'tool_call'}] usage_metadata={'input_tokens': 117, 'output_tokens': 17, 'total_tokens': 134, 'input_token_details': {'audio': 0, 'cache_read': 0}, 'output_token_details': {'audio': 0, 'reasoning': 0}}\n",
            "content='6' name='add' id='5e77f33e-3071-411a-9204-1164dd8d68ca' tool_call_id='call_Fx50KLkgsg19JwstD2TLEiTG'\n",
            "content=\"The answer to 3 + 3 is 6! That's how we do math, easy peasy lemon squeezy!\" additional_kwargs={'refusal': None} response_metadata={'token_usage': {'completion_tokens': 28, 'prompt_tokens': 142, 'total_tokens': 170, 'completion_tokens_details': {'accepted_prediction_tokens': 0, 'audio_tokens': 0, 'reasoning_tokens': 0, 'rejected_prediction_tokens': 0}, 'prompt_tokens_details': {'audio_tokens': 0, 'cached_tokens': 0}}, 'model_name': 'gpt-3.5-turbo-0125', 'system_fingerprint': None, 'id': 'chatcmpl-BoXF5CIiPJpU1KGDUuvwU9aTInr6S', 'service_tier': 'default', 'finish_reason': 'stop', 'logprobs': None} id='run--17ea174b-1d35-46eb-a3f6-742affef1555-0' usage_metadata={'input_tokens': 142, 'output_tokens': 28, 'total_tokens': 170, 'input_token_details': {'audio': 0, 'cache_read': 0}, 'output_token_details': {'audio': 0, 'reasoning': 0}}\n",
            "content='multiply that by 2' additional_kwargs={} response_metadata={} id='28fbc31f-ae74-43eb-83fe-4fd6b23aa230'\n",
            "content='' additional_kwargs={'tool_calls': [{'id': 'call_W06I4OZ8BrLFR15PQYUfNeHs', 'function': {'arguments': '{\"a\":6,\"b\":2}', 'name': 'multiply'}, 'type': 'function'}], 'refusal': None} response_metadata={'token_usage': {'completion_tokens': 17, 'prompt_tokens': 182, 'total_tokens': 199, 'completion_tokens_details': {'accepted_prediction_tokens': 0, 'audio_tokens': 0, 'reasoning_tokens': 0, 'rejected_prediction_tokens': 0}, 'prompt_tokens_details': {'audio_tokens': 0, 'cached_tokens': 0}}, 'model_name': 'gpt-3.5-turbo-0125', 'system_fingerprint': None, 'id': 'chatcmpl-BoXFTMui8PENto8NMcv07oFlNKaLN', 'service_tier': 'default', 'finish_reason': 'tool_calls', 'logprobs': None} id='run--96252298-4da3-4206-8766-0f846c9f674f-0' tool_calls=[{'name': 'multiply', 'args': {'a': 6, 'b': 2}, 'id': 'call_W06I4OZ8BrLFR15PQYUfNeHs', 'type': 'tool_call'}] usage_metadata={'input_tokens': 182, 'output_tokens': 17, 'total_tokens': 199, 'input_token_details': {'audio': 0, 'cache_read': 0}, 'output_token_details': {'audio': 0, 'reasoning': 0}}\n",
            "content='12' name='multiply' id='c2198379-86ed-42c8-8494-6b468c427475' tool_call_id='call_W06I4OZ8BrLFR15PQYUfNeHs'\n",
            "content='When you multiply 6 by 2, you get 12! Double trouble, double the fun!' additional_kwargs={'refusal': None} response_metadata={'token_usage': {'completion_tokens': 22, 'prompt_tokens': 207, 'total_tokens': 229, 'completion_tokens_details': {'accepted_prediction_tokens': 0, 'audio_tokens': 0, 'reasoning_tokens': 0, 'rejected_prediction_tokens': 0}, 'prompt_tokens_details': {'audio_tokens': 0, 'cached_tokens': 0}}, 'model_name': 'gpt-3.5-turbo-0125', 'system_fingerprint': None, 'id': 'chatcmpl-BoXFUOqQ3XPSCphxiMEZOXaQ32GqH', 'service_tier': 'default', 'finish_reason': 'stop', 'logprobs': None} id='run--901d65f9-60c2-46e2-a005-6849ae04fa63-0' usage_metadata={'input_tokens': 207, 'output_tokens': 22, 'total_tokens': 229, 'input_token_details': {'audio': 0, 'cache_read': 0}, 'output_token_details': {'audio': 0, 'reasoning': 0}}\n"
          ]
        }
      ]
    },
    {
      "cell_type": "code",
      "source": [
        "config = {\"configurable\":{\"thread_id\":1}}\n",
        "messages = [HumanMessage(content=\"multiply that by 4\")]\n",
        "messages = graph.invoke({\"messages\":messages}, config)\n",
        "\n",
        "for m in messages[\"messages\"]:\n",
        "  print(m)"
      ],
      "metadata": {
        "colab": {
          "base_uri": "https://localhost:8080/"
        },
        "id": "4jTXNZ8nnZeS",
        "outputId": "bad61e0b-a306-4a0f-abdc-261e8da2fdc5"
      },
      "execution_count": 15,
      "outputs": [
        {
          "output_type": "stream",
          "name": "stdout",
          "text": [
            "content='Hi, what is 4 + 5' additional_kwargs={} response_metadata={} id='9667a756-2286-429a-ac7d-f02858c23c4e'\n",
            "content='' additional_kwargs={'tool_calls': [{'id': 'call_XxGdWb7PJHaIGgv8DkM6YZng', 'function': {'arguments': '{\"a\":4,\"b\":5}', 'name': 'add'}, 'type': 'function'}], 'refusal': None} response_metadata={'token_usage': {'completion_tokens': 17, 'prompt_tokens': 117, 'total_tokens': 134, 'completion_tokens_details': {'accepted_prediction_tokens': 0, 'audio_tokens': 0, 'reasoning_tokens': 0, 'rejected_prediction_tokens': 0}, 'prompt_tokens_details': {'audio_tokens': 0, 'cached_tokens': 0}}, 'model_name': 'gpt-3.5-turbo-0125', 'system_fingerprint': None, 'id': 'chatcmpl-BoXCgfkA3kKy81SFkppvWUDytLAGE', 'service_tier': 'default', 'finish_reason': 'tool_calls', 'logprobs': None} id='run--11fad7a9-de8d-46c0-832a-a5985c2b4016-0' tool_calls=[{'name': 'add', 'args': {'a': 4, 'b': 5}, 'id': 'call_XxGdWb7PJHaIGgv8DkM6YZng', 'type': 'tool_call'}] usage_metadata={'input_tokens': 117, 'output_tokens': 17, 'total_tokens': 134, 'input_token_details': {'audio': 0, 'cache_read': 0}, 'output_token_details': {'audio': 0, 'reasoning': 0}}\n",
            "content='9' name='add' id='4a589aa0-98f8-4a64-9eea-63578a3fdf46' tool_call_id='call_XxGdWb7PJHaIGgv8DkM6YZng'\n",
            "content='The sum of 4 and 5 is 9!' additional_kwargs={'refusal': None} response_metadata={'token_usage': {'completion_tokens': 13, 'prompt_tokens': 142, 'total_tokens': 155, 'completion_tokens_details': {'accepted_prediction_tokens': 0, 'audio_tokens': 0, 'reasoning_tokens': 0, 'rejected_prediction_tokens': 0}, 'prompt_tokens_details': {'audio_tokens': 0, 'cached_tokens': 0}}, 'model_name': 'gpt-3.5-turbo-0125', 'system_fingerprint': None, 'id': 'chatcmpl-BoXCh5ZYOmmOuAwbMuIsPhVd3at7K', 'service_tier': 'default', 'finish_reason': 'stop', 'logprobs': None} id='run--df1c023d-2b77-4089-b30c-fc661cf8f3e0-0' usage_metadata={'input_tokens': 142, 'output_tokens': 13, 'total_tokens': 155, 'input_token_details': {'audio': 0, 'cache_read': 0}, 'output_token_details': {'audio': 0, 'reasoning': 0}}\n",
            "content='multiply that by 2' additional_kwargs={} response_metadata={} id='28d0d485-a041-4d6e-94fa-4bed2b93f176'\n",
            "content='' additional_kwargs={'tool_calls': [{'id': 'call_QpazM3lynQsIKiTRsXRtERpB', 'function': {'arguments': '{\"a\":9,\"b\":2}', 'name': 'multiply'}, 'type': 'function'}], 'refusal': None} response_metadata={'token_usage': {'completion_tokens': 17, 'prompt_tokens': 167, 'total_tokens': 184, 'completion_tokens_details': {'accepted_prediction_tokens': 0, 'audio_tokens': 0, 'reasoning_tokens': 0, 'rejected_prediction_tokens': 0}, 'prompt_tokens_details': {'audio_tokens': 0, 'cached_tokens': 0}}, 'model_name': 'gpt-3.5-turbo-0125', 'system_fingerprint': None, 'id': 'chatcmpl-BoXEG5hC6L38QPJe8DqZS0u6PoNxZ', 'service_tier': 'default', 'finish_reason': 'tool_calls', 'logprobs': None} id='run--d6fe31ea-a5b6-4a9b-945c-2f062bd0b800-0' tool_calls=[{'name': 'multiply', 'args': {'a': 9, 'b': 2}, 'id': 'call_QpazM3lynQsIKiTRsXRtERpB', 'type': 'tool_call'}] usage_metadata={'input_tokens': 167, 'output_tokens': 17, 'total_tokens': 184, 'input_token_details': {'audio': 0, 'cache_read': 0}, 'output_token_details': {'audio': 0, 'reasoning': 0}}\n",
            "content='18' name='multiply' id='d704f288-06e4-487b-9770-d93a3566b8cc' tool_call_id='call_QpazM3lynQsIKiTRsXRtERpB'\n",
            "content='When you multiply 9 by 2, you get 18!' additional_kwargs={'refusal': None} response_metadata={'token_usage': {'completion_tokens': 15, 'prompt_tokens': 192, 'total_tokens': 207, 'completion_tokens_details': {'accepted_prediction_tokens': 0, 'audio_tokens': 0, 'reasoning_tokens': 0, 'rejected_prediction_tokens': 0}, 'prompt_tokens_details': {'audio_tokens': 0, 'cached_tokens': 0}}, 'model_name': 'gpt-3.5-turbo-0125', 'system_fingerprint': None, 'id': 'chatcmpl-BoXEHCjJTBIVeQPphPKozjjBjWwVZ', 'service_tier': 'default', 'finish_reason': 'stop', 'logprobs': None} id='run--17111cca-a6b2-4252-9d01-1b38b9b41260-0' usage_metadata={'input_tokens': 192, 'output_tokens': 15, 'total_tokens': 207, 'input_token_details': {'audio': 0, 'cache_read': 0}, 'output_token_details': {'audio': 0, 'reasoning': 0}}\n",
            "content='multiply that by 4' additional_kwargs={} response_metadata={} id='8ac6cca4-f14a-44d6-b83b-f78c6c7d95fe'\n",
            "content='' additional_kwargs={'tool_calls': [{'id': 'call_ycrDyOEydtRupE43MWvj2Az5', 'function': {'arguments': '{\"a\":18,\"b\":4}', 'name': 'multiply'}, 'type': 'function'}], 'refusal': None} response_metadata={'token_usage': {'completion_tokens': 17, 'prompt_tokens': 219, 'total_tokens': 236, 'completion_tokens_details': {'accepted_prediction_tokens': 0, 'audio_tokens': 0, 'reasoning_tokens': 0, 'rejected_prediction_tokens': 0}, 'prompt_tokens_details': {'audio_tokens': 0, 'cached_tokens': 0}}, 'model_name': 'gpt-3.5-turbo-0125', 'system_fingerprint': None, 'id': 'chatcmpl-BoXG4qaxQShgTraDbCEr9ZVcuHnJw', 'service_tier': 'default', 'finish_reason': 'tool_calls', 'logprobs': None} id='run--799f1cb3-3b10-466f-90eb-df960b290c44-0' tool_calls=[{'name': 'multiply', 'args': {'a': 18, 'b': 4}, 'id': 'call_ycrDyOEydtRupE43MWvj2Az5', 'type': 'tool_call'}] usage_metadata={'input_tokens': 219, 'output_tokens': 17, 'total_tokens': 236, 'input_token_details': {'audio': 0, 'cache_read': 0}, 'output_token_details': {'audio': 0, 'reasoning': 0}}\n",
            "content='72' name='multiply' id='36dd5afc-0dac-4fff-8751-8b0e98fba231' tool_call_id='call_ycrDyOEydtRupE43MWvj2Az5'\n",
            "content='Multiply 18 by 4 equals 72!' additional_kwargs={'refusal': None} response_metadata={'token_usage': {'completion_tokens': 11, 'prompt_tokens': 244, 'total_tokens': 255, 'completion_tokens_details': {'accepted_prediction_tokens': 0, 'audio_tokens': 0, 'reasoning_tokens': 0, 'rejected_prediction_tokens': 0}, 'prompt_tokens_details': {'audio_tokens': 0, 'cached_tokens': 0}}, 'model_name': 'gpt-3.5-turbo-0125', 'system_fingerprint': None, 'id': 'chatcmpl-BoXG5POADLSwR3jasfvFnlNG6gjv0', 'service_tier': 'default', 'finish_reason': 'stop', 'logprobs': None} id='run--d0eaaa3a-1761-4c13-8a78-c9d70a5fb8fd-0' usage_metadata={'input_tokens': 244, 'output_tokens': 11, 'total_tokens': 255, 'input_token_details': {'audio': 0, 'cache_read': 0}, 'output_token_details': {'audio': 0, 'reasoning': 0}}\n"
          ]
        }
      ]
    },
    {
      "cell_type": "code",
      "source": [
        "messages = [HumanMessage(content=\"DIVIDE that by 2\")]\n",
        "messages = graph.invoke({\"messages\":messages}, config)\n",
        "\n",
        "for m in messages[\"messages\"]:\n",
        "  print(m)"
      ],
      "metadata": {
        "colab": {
          "base_uri": "https://localhost:8080/"
        },
        "id": "aOxQrB3VnizU",
        "outputId": "adc23d3e-2200-40c4-9cb4-67b36e01855a"
      },
      "execution_count": 16,
      "outputs": [
        {
          "output_type": "stream",
          "name": "stdout",
          "text": [
            "content='Hi, what is 4 + 5' additional_kwargs={} response_metadata={} id='9667a756-2286-429a-ac7d-f02858c23c4e'\n",
            "content='' additional_kwargs={'tool_calls': [{'id': 'call_XxGdWb7PJHaIGgv8DkM6YZng', 'function': {'arguments': '{\"a\":4,\"b\":5}', 'name': 'add'}, 'type': 'function'}], 'refusal': None} response_metadata={'token_usage': {'completion_tokens': 17, 'prompt_tokens': 117, 'total_tokens': 134, 'completion_tokens_details': {'accepted_prediction_tokens': 0, 'audio_tokens': 0, 'reasoning_tokens': 0, 'rejected_prediction_tokens': 0}, 'prompt_tokens_details': {'audio_tokens': 0, 'cached_tokens': 0}}, 'model_name': 'gpt-3.5-turbo-0125', 'system_fingerprint': None, 'id': 'chatcmpl-BoXCgfkA3kKy81SFkppvWUDytLAGE', 'service_tier': 'default', 'finish_reason': 'tool_calls', 'logprobs': None} id='run--11fad7a9-de8d-46c0-832a-a5985c2b4016-0' tool_calls=[{'name': 'add', 'args': {'a': 4, 'b': 5}, 'id': 'call_XxGdWb7PJHaIGgv8DkM6YZng', 'type': 'tool_call'}] usage_metadata={'input_tokens': 117, 'output_tokens': 17, 'total_tokens': 134, 'input_token_details': {'audio': 0, 'cache_read': 0}, 'output_token_details': {'audio': 0, 'reasoning': 0}}\n",
            "content='9' name='add' id='4a589aa0-98f8-4a64-9eea-63578a3fdf46' tool_call_id='call_XxGdWb7PJHaIGgv8DkM6YZng'\n",
            "content='The sum of 4 and 5 is 9!' additional_kwargs={'refusal': None} response_metadata={'token_usage': {'completion_tokens': 13, 'prompt_tokens': 142, 'total_tokens': 155, 'completion_tokens_details': {'accepted_prediction_tokens': 0, 'audio_tokens': 0, 'reasoning_tokens': 0, 'rejected_prediction_tokens': 0}, 'prompt_tokens_details': {'audio_tokens': 0, 'cached_tokens': 0}}, 'model_name': 'gpt-3.5-turbo-0125', 'system_fingerprint': None, 'id': 'chatcmpl-BoXCh5ZYOmmOuAwbMuIsPhVd3at7K', 'service_tier': 'default', 'finish_reason': 'stop', 'logprobs': None} id='run--df1c023d-2b77-4089-b30c-fc661cf8f3e0-0' usage_metadata={'input_tokens': 142, 'output_tokens': 13, 'total_tokens': 155, 'input_token_details': {'audio': 0, 'cache_read': 0}, 'output_token_details': {'audio': 0, 'reasoning': 0}}\n",
            "content='multiply that by 2' additional_kwargs={} response_metadata={} id='28d0d485-a041-4d6e-94fa-4bed2b93f176'\n",
            "content='' additional_kwargs={'tool_calls': [{'id': 'call_QpazM3lynQsIKiTRsXRtERpB', 'function': {'arguments': '{\"a\":9,\"b\":2}', 'name': 'multiply'}, 'type': 'function'}], 'refusal': None} response_metadata={'token_usage': {'completion_tokens': 17, 'prompt_tokens': 167, 'total_tokens': 184, 'completion_tokens_details': {'accepted_prediction_tokens': 0, 'audio_tokens': 0, 'reasoning_tokens': 0, 'rejected_prediction_tokens': 0}, 'prompt_tokens_details': {'audio_tokens': 0, 'cached_tokens': 0}}, 'model_name': 'gpt-3.5-turbo-0125', 'system_fingerprint': None, 'id': 'chatcmpl-BoXEG5hC6L38QPJe8DqZS0u6PoNxZ', 'service_tier': 'default', 'finish_reason': 'tool_calls', 'logprobs': None} id='run--d6fe31ea-a5b6-4a9b-945c-2f062bd0b800-0' tool_calls=[{'name': 'multiply', 'args': {'a': 9, 'b': 2}, 'id': 'call_QpazM3lynQsIKiTRsXRtERpB', 'type': 'tool_call'}] usage_metadata={'input_tokens': 167, 'output_tokens': 17, 'total_tokens': 184, 'input_token_details': {'audio': 0, 'cache_read': 0}, 'output_token_details': {'audio': 0, 'reasoning': 0}}\n",
            "content='18' name='multiply' id='d704f288-06e4-487b-9770-d93a3566b8cc' tool_call_id='call_QpazM3lynQsIKiTRsXRtERpB'\n",
            "content='When you multiply 9 by 2, you get 18!' additional_kwargs={'refusal': None} response_metadata={'token_usage': {'completion_tokens': 15, 'prompt_tokens': 192, 'total_tokens': 207, 'completion_tokens_details': {'accepted_prediction_tokens': 0, 'audio_tokens': 0, 'reasoning_tokens': 0, 'rejected_prediction_tokens': 0}, 'prompt_tokens_details': {'audio_tokens': 0, 'cached_tokens': 0}}, 'model_name': 'gpt-3.5-turbo-0125', 'system_fingerprint': None, 'id': 'chatcmpl-BoXEHCjJTBIVeQPphPKozjjBjWwVZ', 'service_tier': 'default', 'finish_reason': 'stop', 'logprobs': None} id='run--17111cca-a6b2-4252-9d01-1b38b9b41260-0' usage_metadata={'input_tokens': 192, 'output_tokens': 15, 'total_tokens': 207, 'input_token_details': {'audio': 0, 'cache_read': 0}, 'output_token_details': {'audio': 0, 'reasoning': 0}}\n",
            "content='multiply that by 4' additional_kwargs={} response_metadata={} id='8ac6cca4-f14a-44d6-b83b-f78c6c7d95fe'\n",
            "content='' additional_kwargs={'tool_calls': [{'id': 'call_ycrDyOEydtRupE43MWvj2Az5', 'function': {'arguments': '{\"a\":18,\"b\":4}', 'name': 'multiply'}, 'type': 'function'}], 'refusal': None} response_metadata={'token_usage': {'completion_tokens': 17, 'prompt_tokens': 219, 'total_tokens': 236, 'completion_tokens_details': {'accepted_prediction_tokens': 0, 'audio_tokens': 0, 'reasoning_tokens': 0, 'rejected_prediction_tokens': 0}, 'prompt_tokens_details': {'audio_tokens': 0, 'cached_tokens': 0}}, 'model_name': 'gpt-3.5-turbo-0125', 'system_fingerprint': None, 'id': 'chatcmpl-BoXG4qaxQShgTraDbCEr9ZVcuHnJw', 'service_tier': 'default', 'finish_reason': 'tool_calls', 'logprobs': None} id='run--799f1cb3-3b10-466f-90eb-df960b290c44-0' tool_calls=[{'name': 'multiply', 'args': {'a': 18, 'b': 4}, 'id': 'call_ycrDyOEydtRupE43MWvj2Az5', 'type': 'tool_call'}] usage_metadata={'input_tokens': 219, 'output_tokens': 17, 'total_tokens': 236, 'input_token_details': {'audio': 0, 'cache_read': 0}, 'output_token_details': {'audio': 0, 'reasoning': 0}}\n",
            "content='72' name='multiply' id='36dd5afc-0dac-4fff-8751-8b0e98fba231' tool_call_id='call_ycrDyOEydtRupE43MWvj2Az5'\n",
            "content='Multiply 18 by 4 equals 72!' additional_kwargs={'refusal': None} response_metadata={'token_usage': {'completion_tokens': 11, 'prompt_tokens': 244, 'total_tokens': 255, 'completion_tokens_details': {'accepted_prediction_tokens': 0, 'audio_tokens': 0, 'reasoning_tokens': 0, 'rejected_prediction_tokens': 0}, 'prompt_tokens_details': {'audio_tokens': 0, 'cached_tokens': 0}}, 'model_name': 'gpt-3.5-turbo-0125', 'system_fingerprint': None, 'id': 'chatcmpl-BoXG5POADLSwR3jasfvFnlNG6gjv0', 'service_tier': 'default', 'finish_reason': 'stop', 'logprobs': None} id='run--d0eaaa3a-1761-4c13-8a78-c9d70a5fb8fd-0' usage_metadata={'input_tokens': 244, 'output_tokens': 11, 'total_tokens': 255, 'input_token_details': {'audio': 0, 'cache_read': 0}, 'output_token_details': {'audio': 0, 'reasoning': 0}}\n",
            "content='DIVIDE that by 2' additional_kwargs={} response_metadata={} id='874ab0eb-3b6e-4698-8ff4-47d57d7b1fc5'\n",
            "content='' additional_kwargs={'tool_calls': [{'id': 'call_IiAvaVDXLzEVgo5DtEvuJiP9', 'function': {'arguments': '{\"a\":72,\"b\":2}', 'name': 'divide'}, 'type': 'function'}], 'refusal': None} response_metadata={'token_usage': {'completion_tokens': 17, 'prompt_tokens': 268, 'total_tokens': 285, 'completion_tokens_details': {'accepted_prediction_tokens': 0, 'audio_tokens': 0, 'reasoning_tokens': 0, 'rejected_prediction_tokens': 0}, 'prompt_tokens_details': {'audio_tokens': 0, 'cached_tokens': 0}}, 'model_name': 'gpt-3.5-turbo-0125', 'system_fingerprint': None, 'id': 'chatcmpl-BoXVL7cBPbqM50ypQW6yAylwJwqxr', 'service_tier': 'default', 'finish_reason': 'tool_calls', 'logprobs': None} id='run--74748aa7-9b8d-49da-acae-3601271ddb1d-0' tool_calls=[{'name': 'divide', 'args': {'a': 72, 'b': 2}, 'id': 'call_IiAvaVDXLzEVgo5DtEvuJiP9', 'type': 'tool_call'}] usage_metadata={'input_tokens': 268, 'output_tokens': 17, 'total_tokens': 285, 'input_token_details': {'audio': 0, 'cache_read': 0}, 'output_token_details': {'audio': 0, 'reasoning': 0}}\n",
            "content='36.0' name='divide' id='3e8d76cc-5196-4673-8ba3-9525af214543' tool_call_id='call_IiAvaVDXLzEVgo5DtEvuJiP9'\n",
            "content='Dividing 72 by 2 gives us 36.0!' additional_kwargs={'refusal': None} response_metadata={'token_usage': {'completion_tokens': 15, 'prompt_tokens': 295, 'total_tokens': 310, 'completion_tokens_details': {'accepted_prediction_tokens': 0, 'audio_tokens': 0, 'reasoning_tokens': 0, 'rejected_prediction_tokens': 0}, 'prompt_tokens_details': {'audio_tokens': 0, 'cached_tokens': 0}}, 'model_name': 'gpt-3.5-turbo-0125', 'system_fingerprint': None, 'id': 'chatcmpl-BoXVM5fCnxP3FRPt8ZV2wAaG1kAc4', 'service_tier': 'default', 'finish_reason': 'stop', 'logprobs': None} id='run--b8f155a1-a506-410b-9a74-ee181d9d66a8-0' usage_metadata={'input_tokens': 295, 'output_tokens': 15, 'total_tokens': 310, 'input_token_details': {'audio': 0, 'cache_read': 0}, 'output_token_details': {'audio': 0, 'reasoning': 0}}\n"
          ]
        }
      ]
    },
    {
      "cell_type": "code",
      "source": [
        "messages = [HumanMessage(content=\"DIVIDE that by 2\")]\n",
        "messages = graph.invoke({\"messages\":messages}, config)\n",
        "\n",
        "for m in messages[\"messages\"]:\n",
        "  print(m)"
      ],
      "metadata": {
        "colab": {
          "base_uri": "https://localhost:8080/"
        },
        "id": "-NrpXjm5rKG-",
        "outputId": "a976ff52-ef1a-489b-8c37-4b5d5627889b"
      },
      "execution_count": 17,
      "outputs": [
        {
          "output_type": "stream",
          "name": "stdout",
          "text": [
            "content='Hi, what is 4 + 5' additional_kwargs={} response_metadata={} id='9667a756-2286-429a-ac7d-f02858c23c4e'\n",
            "content='' additional_kwargs={'tool_calls': [{'id': 'call_XxGdWb7PJHaIGgv8DkM6YZng', 'function': {'arguments': '{\"a\":4,\"b\":5}', 'name': 'add'}, 'type': 'function'}], 'refusal': None} response_metadata={'token_usage': {'completion_tokens': 17, 'prompt_tokens': 117, 'total_tokens': 134, 'completion_tokens_details': {'accepted_prediction_tokens': 0, 'audio_tokens': 0, 'reasoning_tokens': 0, 'rejected_prediction_tokens': 0}, 'prompt_tokens_details': {'audio_tokens': 0, 'cached_tokens': 0}}, 'model_name': 'gpt-3.5-turbo-0125', 'system_fingerprint': None, 'id': 'chatcmpl-BoXCgfkA3kKy81SFkppvWUDytLAGE', 'service_tier': 'default', 'finish_reason': 'tool_calls', 'logprobs': None} id='run--11fad7a9-de8d-46c0-832a-a5985c2b4016-0' tool_calls=[{'name': 'add', 'args': {'a': 4, 'b': 5}, 'id': 'call_XxGdWb7PJHaIGgv8DkM6YZng', 'type': 'tool_call'}] usage_metadata={'input_tokens': 117, 'output_tokens': 17, 'total_tokens': 134, 'input_token_details': {'audio': 0, 'cache_read': 0}, 'output_token_details': {'audio': 0, 'reasoning': 0}}\n",
            "content='9' name='add' id='4a589aa0-98f8-4a64-9eea-63578a3fdf46' tool_call_id='call_XxGdWb7PJHaIGgv8DkM6YZng'\n",
            "content='The sum of 4 and 5 is 9!' additional_kwargs={'refusal': None} response_metadata={'token_usage': {'completion_tokens': 13, 'prompt_tokens': 142, 'total_tokens': 155, 'completion_tokens_details': {'accepted_prediction_tokens': 0, 'audio_tokens': 0, 'reasoning_tokens': 0, 'rejected_prediction_tokens': 0}, 'prompt_tokens_details': {'audio_tokens': 0, 'cached_tokens': 0}}, 'model_name': 'gpt-3.5-turbo-0125', 'system_fingerprint': None, 'id': 'chatcmpl-BoXCh5ZYOmmOuAwbMuIsPhVd3at7K', 'service_tier': 'default', 'finish_reason': 'stop', 'logprobs': None} id='run--df1c023d-2b77-4089-b30c-fc661cf8f3e0-0' usage_metadata={'input_tokens': 142, 'output_tokens': 13, 'total_tokens': 155, 'input_token_details': {'audio': 0, 'cache_read': 0}, 'output_token_details': {'audio': 0, 'reasoning': 0}}\n",
            "content='multiply that by 2' additional_kwargs={} response_metadata={} id='28d0d485-a041-4d6e-94fa-4bed2b93f176'\n",
            "content='' additional_kwargs={'tool_calls': [{'id': 'call_QpazM3lynQsIKiTRsXRtERpB', 'function': {'arguments': '{\"a\":9,\"b\":2}', 'name': 'multiply'}, 'type': 'function'}], 'refusal': None} response_metadata={'token_usage': {'completion_tokens': 17, 'prompt_tokens': 167, 'total_tokens': 184, 'completion_tokens_details': {'accepted_prediction_tokens': 0, 'audio_tokens': 0, 'reasoning_tokens': 0, 'rejected_prediction_tokens': 0}, 'prompt_tokens_details': {'audio_tokens': 0, 'cached_tokens': 0}}, 'model_name': 'gpt-3.5-turbo-0125', 'system_fingerprint': None, 'id': 'chatcmpl-BoXEG5hC6L38QPJe8DqZS0u6PoNxZ', 'service_tier': 'default', 'finish_reason': 'tool_calls', 'logprobs': None} id='run--d6fe31ea-a5b6-4a9b-945c-2f062bd0b800-0' tool_calls=[{'name': 'multiply', 'args': {'a': 9, 'b': 2}, 'id': 'call_QpazM3lynQsIKiTRsXRtERpB', 'type': 'tool_call'}] usage_metadata={'input_tokens': 167, 'output_tokens': 17, 'total_tokens': 184, 'input_token_details': {'audio': 0, 'cache_read': 0}, 'output_token_details': {'audio': 0, 'reasoning': 0}}\n",
            "content='18' name='multiply' id='d704f288-06e4-487b-9770-d93a3566b8cc' tool_call_id='call_QpazM3lynQsIKiTRsXRtERpB'\n",
            "content='When you multiply 9 by 2, you get 18!' additional_kwargs={'refusal': None} response_metadata={'token_usage': {'completion_tokens': 15, 'prompt_tokens': 192, 'total_tokens': 207, 'completion_tokens_details': {'accepted_prediction_tokens': 0, 'audio_tokens': 0, 'reasoning_tokens': 0, 'rejected_prediction_tokens': 0}, 'prompt_tokens_details': {'audio_tokens': 0, 'cached_tokens': 0}}, 'model_name': 'gpt-3.5-turbo-0125', 'system_fingerprint': None, 'id': 'chatcmpl-BoXEHCjJTBIVeQPphPKozjjBjWwVZ', 'service_tier': 'default', 'finish_reason': 'stop', 'logprobs': None} id='run--17111cca-a6b2-4252-9d01-1b38b9b41260-0' usage_metadata={'input_tokens': 192, 'output_tokens': 15, 'total_tokens': 207, 'input_token_details': {'audio': 0, 'cache_read': 0}, 'output_token_details': {'audio': 0, 'reasoning': 0}}\n",
            "content='multiply that by 4' additional_kwargs={} response_metadata={} id='8ac6cca4-f14a-44d6-b83b-f78c6c7d95fe'\n",
            "content='' additional_kwargs={'tool_calls': [{'id': 'call_ycrDyOEydtRupE43MWvj2Az5', 'function': {'arguments': '{\"a\":18,\"b\":4}', 'name': 'multiply'}, 'type': 'function'}], 'refusal': None} response_metadata={'token_usage': {'completion_tokens': 17, 'prompt_tokens': 219, 'total_tokens': 236, 'completion_tokens_details': {'accepted_prediction_tokens': 0, 'audio_tokens': 0, 'reasoning_tokens': 0, 'rejected_prediction_tokens': 0}, 'prompt_tokens_details': {'audio_tokens': 0, 'cached_tokens': 0}}, 'model_name': 'gpt-3.5-turbo-0125', 'system_fingerprint': None, 'id': 'chatcmpl-BoXG4qaxQShgTraDbCEr9ZVcuHnJw', 'service_tier': 'default', 'finish_reason': 'tool_calls', 'logprobs': None} id='run--799f1cb3-3b10-466f-90eb-df960b290c44-0' tool_calls=[{'name': 'multiply', 'args': {'a': 18, 'b': 4}, 'id': 'call_ycrDyOEydtRupE43MWvj2Az5', 'type': 'tool_call'}] usage_metadata={'input_tokens': 219, 'output_tokens': 17, 'total_tokens': 236, 'input_token_details': {'audio': 0, 'cache_read': 0}, 'output_token_details': {'audio': 0, 'reasoning': 0}}\n",
            "content='72' name='multiply' id='36dd5afc-0dac-4fff-8751-8b0e98fba231' tool_call_id='call_ycrDyOEydtRupE43MWvj2Az5'\n",
            "content='Multiply 18 by 4 equals 72!' additional_kwargs={'refusal': None} response_metadata={'token_usage': {'completion_tokens': 11, 'prompt_tokens': 244, 'total_tokens': 255, 'completion_tokens_details': {'accepted_prediction_tokens': 0, 'audio_tokens': 0, 'reasoning_tokens': 0, 'rejected_prediction_tokens': 0}, 'prompt_tokens_details': {'audio_tokens': 0, 'cached_tokens': 0}}, 'model_name': 'gpt-3.5-turbo-0125', 'system_fingerprint': None, 'id': 'chatcmpl-BoXG5POADLSwR3jasfvFnlNG6gjv0', 'service_tier': 'default', 'finish_reason': 'stop', 'logprobs': None} id='run--d0eaaa3a-1761-4c13-8a78-c9d70a5fb8fd-0' usage_metadata={'input_tokens': 244, 'output_tokens': 11, 'total_tokens': 255, 'input_token_details': {'audio': 0, 'cache_read': 0}, 'output_token_details': {'audio': 0, 'reasoning': 0}}\n",
            "content='DIVIDE that by 2' additional_kwargs={} response_metadata={} id='874ab0eb-3b6e-4698-8ff4-47d57d7b1fc5'\n",
            "content='' additional_kwargs={'tool_calls': [{'id': 'call_IiAvaVDXLzEVgo5DtEvuJiP9', 'function': {'arguments': '{\"a\":72,\"b\":2}', 'name': 'divide'}, 'type': 'function'}], 'refusal': None} response_metadata={'token_usage': {'completion_tokens': 17, 'prompt_tokens': 268, 'total_tokens': 285, 'completion_tokens_details': {'accepted_prediction_tokens': 0, 'audio_tokens': 0, 'reasoning_tokens': 0, 'rejected_prediction_tokens': 0}, 'prompt_tokens_details': {'audio_tokens': 0, 'cached_tokens': 0}}, 'model_name': 'gpt-3.5-turbo-0125', 'system_fingerprint': None, 'id': 'chatcmpl-BoXVL7cBPbqM50ypQW6yAylwJwqxr', 'service_tier': 'default', 'finish_reason': 'tool_calls', 'logprobs': None} id='run--74748aa7-9b8d-49da-acae-3601271ddb1d-0' tool_calls=[{'name': 'divide', 'args': {'a': 72, 'b': 2}, 'id': 'call_IiAvaVDXLzEVgo5DtEvuJiP9', 'type': 'tool_call'}] usage_metadata={'input_tokens': 268, 'output_tokens': 17, 'total_tokens': 285, 'input_token_details': {'audio': 0, 'cache_read': 0}, 'output_token_details': {'audio': 0, 'reasoning': 0}}\n",
            "content='36.0' name='divide' id='3e8d76cc-5196-4673-8ba3-9525af214543' tool_call_id='call_IiAvaVDXLzEVgo5DtEvuJiP9'\n",
            "content='Dividing 72 by 2 gives us 36.0!' additional_kwargs={'refusal': None} response_metadata={'token_usage': {'completion_tokens': 15, 'prompt_tokens': 295, 'total_tokens': 310, 'completion_tokens_details': {'accepted_prediction_tokens': 0, 'audio_tokens': 0, 'reasoning_tokens': 0, 'rejected_prediction_tokens': 0}, 'prompt_tokens_details': {'audio_tokens': 0, 'cached_tokens': 0}}, 'model_name': 'gpt-3.5-turbo-0125', 'system_fingerprint': None, 'id': 'chatcmpl-BoXVM5fCnxP3FRPt8ZV2wAaG1kAc4', 'service_tier': 'default', 'finish_reason': 'stop', 'logprobs': None} id='run--b8f155a1-a506-410b-9a74-ee181d9d66a8-0' usage_metadata={'input_tokens': 295, 'output_tokens': 15, 'total_tokens': 310, 'input_token_details': {'audio': 0, 'cache_read': 0}, 'output_token_details': {'audio': 0, 'reasoning': 0}}\n",
            "content='DIVIDE that by 2' additional_kwargs={} response_metadata={} id='ce7fe4cb-09aa-4ed3-9164-82fb56ede87b'\n",
            "content='' additional_kwargs={'tool_calls': [{'id': 'call_H5SS66wv4XFHz5D6DJXDNcNo', 'function': {'arguments': '{\"a\":36,\"b\":2}', 'name': 'divide'}, 'type': 'function'}], 'refusal': None} response_metadata={'token_usage': {'completion_tokens': 17, 'prompt_tokens': 323, 'total_tokens': 340, 'completion_tokens_details': {'accepted_prediction_tokens': 0, 'audio_tokens': 0, 'reasoning_tokens': 0, 'rejected_prediction_tokens': 0}, 'prompt_tokens_details': {'audio_tokens': 0, 'cached_tokens': 0}}, 'model_name': 'gpt-3.5-turbo-0125', 'system_fingerprint': None, 'id': 'chatcmpl-BoXVgfJdosmRzUsq2yVX21MF8gLhX', 'service_tier': 'default', 'finish_reason': 'tool_calls', 'logprobs': None} id='run--5ada5644-2ae8-4b7d-839a-74017abf0034-0' tool_calls=[{'name': 'divide', 'args': {'a': 36, 'b': 2}, 'id': 'call_H5SS66wv4XFHz5D6DJXDNcNo', 'type': 'tool_call'}] usage_metadata={'input_tokens': 323, 'output_tokens': 17, 'total_tokens': 340, 'input_token_details': {'audio': 0, 'cache_read': 0}, 'output_token_details': {'audio': 0, 'reasoning': 0}}\n",
            "content='18.0' name='divide' id='cb64e9eb-7b70-4f08-af00-a03452bae26e' tool_call_id='call_H5SS66wv4XFHz5D6DJXDNcNo'\n",
            "content='When you divide 36 by 2, you get 18.0!' additional_kwargs={'refusal': None} response_metadata={'token_usage': {'completion_tokens': 17, 'prompt_tokens': 350, 'total_tokens': 367, 'completion_tokens_details': {'accepted_prediction_tokens': 0, 'audio_tokens': 0, 'reasoning_tokens': 0, 'rejected_prediction_tokens': 0}, 'prompt_tokens_details': {'audio_tokens': 0, 'cached_tokens': 0}}, 'model_name': 'gpt-3.5-turbo-0125', 'system_fingerprint': None, 'id': 'chatcmpl-BoXVhb1lzm5m5eYduiJOrEDdgoyQg', 'service_tier': 'default', 'finish_reason': 'stop', 'logprobs': None} id='run--399960fb-a869-48a7-88ff-288c318ea138-0' usage_metadata={'input_tokens': 350, 'output_tokens': 17, 'total_tokens': 367, 'input_token_details': {'audio': 0, 'cache_read': 0}, 'output_token_details': {'audio': 0, 'reasoning': 0}}\n"
          ]
        }
      ]
    },
    {
      "cell_type": "code",
      "source": [],
      "metadata": {
        "id": "2B601cfMrPJJ"
      },
      "execution_count": null,
      "outputs": []
    }
  ]
}